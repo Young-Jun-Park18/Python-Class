{
 "cells": [
  {
   "cell_type": "markdown",
   "id": "c31b713f",
   "metadata": {},
   "source": [
    "# 오늘은 2주차 실습입니다"
   ]
  },
  {
   "cell_type": "code",
   "execution_count": null,
   "id": "c556efed",
   "metadata": {},
   "outputs": [],
   "source": [
    "# 합,차, 곱, 몫, 나머지, 제곱을 출력하는 프로그램을 구현하자"
   ]
  },
  {
   "cell_type": "code",
   "execution_count": 6,
   "id": "71f4a1f7",
   "metadata": {},
   "outputs": [
    {
     "name": "stdout",
     "output_type": "stream",
     "text": [
      "multi()에서 반환한 값 ==> 120 80 2000 5 0 10000000000000000000000000000000000000000\n"
     ]
    }
   ],
   "source": [
    "def multi(v1, v2):\n",
    "    retList = []\n",
    "    res1 = v1 + v2\n",
    "    res2 = v1 - v2\n",
    "    res3 = v1 * v2\n",
    "    res4 = v1 // v2\n",
    "    res5 = v1 % v2\n",
    "    res6 = v1 ** v2\n",
    "    retList.append(res1)\n",
    "    retList.append(res2)\n",
    "    retList.append(res3)\n",
    "    retList.append(res4)\n",
    "    retList.append(res5)\n",
    "    retList.append(res6)\n",
    "    return retList\n",
    "\n",
    "myList = []\n",
    "hap, sub, gob, mog, na, ja = 0, 0, 0, 0, 0, 0\n",
    "\n",
    "myList = multi(100, 20)\n",
    "hap = myList[0]\n",
    "sub = myList[1]\n",
    "gob = myList[2]\n",
    "mog = myList[3]\n",
    "na = myList[4]\n",
    "ja = myList[5]\n",
    "\n",
    "print(\"multi()에서 반환한 값 ==> %d %d %d %d %d %d\" % (hap, sub, gob, mog, na, ja))"
   ]
  },
  {
   "cell_type": "code",
   "execution_count": 7,
   "id": "a3361c90",
   "metadata": {},
   "outputs": [],
   "source": [
    "#ppt에서 했던 것처럼 콤마도 출력되게 하려면? \n",
    "#형식지정자 뒤에 콤마를 붙여준다"
   ]
  },
  {
   "cell_type": "code",
   "execution_count": 9,
   "id": "255ba316",
   "metadata": {},
   "outputs": [
    {
     "name": "stdout",
     "output_type": "stream",
     "text": [
      "multi()에서 반환한 값 ==> 0, 80, 2000, 5, 0, 10000000000000000000000000000000000000000\n"
     ]
    }
   ],
   "source": [
    "def multi(v1, v2):\n",
    "    retList = []\n",
    "    res1 = v1 + v2\n",
    "    res2 = v1 - v2\n",
    "    res3 = v1 * v2\n",
    "    res4 = v1 // v2\n",
    "    res5 = v1 % v2\n",
    "    res6 = v1 ** v2\n",
    "    retList.append(res1)\n",
    "    retList.append(res2)\n",
    "    retList.append(res3)\n",
    "    retList.append(res4)\n",
    "    retList.append(res5)\n",
    "    retList.append(res6)\n",
    "    return retList\n",
    "\n",
    "myList = []\n",
    "hap, sub, gob, mog, na, ja = 0, 0, 0, 0, 0, 0\n",
    "\n",
    "myList = multi(100, 20)\n",
    "hab, sub, gob, mog, na, ja = myList[0], myList[1], myList[2], myList[3], myList[4], myList[5]\n",
    "\n",
    "print(\"multi()에서 반환한 값 ==> %d, %d, %d, %d, %d, %d\" % (hap, sub, gob, mog, na, ja))"
   ]
  },
  {
   "cell_type": "code",
   "execution_count": 10,
   "id": "d392ed78",
   "metadata": {},
   "outputs": [],
   "source": [
    "#지역 변수와 전역 변수의 차이점을 알아보겠습니다"
   ]
  },
  {
   "cell_type": "code",
   "execution_count": 11,
   "id": "420b48aa",
   "metadata": {},
   "outputs": [
    {
     "name": "stdout",
     "output_type": "stream",
     "text": [
      "func1()에서 a 값 10\n",
      "func2()에서 a 값 20\n"
     ]
    }
   ],
   "source": [
    "def func1():\n",
    "    a = 10 #func1()에서의 지역변수 a값\n",
    "    print(\"func1()에서 a 값 %d\" % a)\n",
    "    \n",
    "def func2():\n",
    "    print(\"func2()에서 a 값 %d\" % a)\n",
    "    \n",
    "a = 20 #전역에서의 변수 a값\n",
    "\n",
    "func1()\n",
    "func2()"
   ]
  },
  {
   "cell_type": "code",
   "execution_count": 12,
   "id": "f9d6a095",
   "metadata": {},
   "outputs": [],
   "source": [
    "#지역변수 전역변수 차이점2"
   ]
  },
  {
   "cell_type": "code",
   "execution_count": 13,
   "id": "03cab7ac",
   "metadata": {},
   "outputs": [
    {
     "name": "stdout",
     "output_type": "stream",
     "text": [
      "func1()에서 a 값 10\n",
      "func2()에서 a 값 10\n"
     ]
    }
   ],
   "source": [
    "def func1():\n",
    "    global a \n",
    "    a = 10 \n",
    "    print(\"func1()에서 a 값 %d\" % a)\n",
    "    \n",
    "def func2():\n",
    "    print(\"func2()에서 a 값 %d\" % a)\n",
    "    \n",
    "a = 20\n",
    "\n",
    "func1()\n",
    "func2()"
   ]
  },
  {
   "cell_type": "code",
   "execution_count": 14,
   "id": "c6fe8929",
   "metadata": {},
   "outputs": [],
   "source": [
    "# git remote add origin 주소\n",
    "# git push origin master 클릭"
   ]
  }
 ],
 "metadata": {
  "kernelspec": {
   "display_name": "Python 3 (ipykernel)",
   "language": "python",
   "name": "python3"
  },
  "language_info": {
   "codemirror_mode": {
    "name": "ipython",
    "version": 3
   },
   "file_extension": ".py",
   "mimetype": "text/x-python",
   "name": "python",
   "nbconvert_exporter": "python",
   "pygments_lexer": "ipython3",
   "version": "3.9.7"
  }
 },
 "nbformat": 4,
 "nbformat_minor": 5
}
