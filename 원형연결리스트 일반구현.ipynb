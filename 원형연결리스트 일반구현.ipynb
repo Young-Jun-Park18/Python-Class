{
 "cells": [
  {
   "cell_type": "markdown",
   "id": "a7bbb965",
   "metadata": {},
   "source": [
    "# 원형 연결 리스트의 일반구현"
   ]
  },
  {
   "cell_type": "code",
   "execution_count": 2,
   "id": "5f6f7ab6",
   "metadata": {},
   "outputs": [
    {
     "name": "stdout",
     "output_type": "stream",
     "text": [
      "다현 정연 쯔위 사나 지효 \n"
     ]
    }
   ],
   "source": [
    "class Node():\n",
    "    def __init__(self):\n",
    "        self.data = None\n",
    "        self.link = None\n",
    "\n",
    "def printNodes(start):\n",
    "    current = start\n",
    "    if current.link == None:\n",
    "        return\n",
    "    print(current.data, end = ' ')\n",
    "    while current.link != start:\n",
    "        current = current.link\n",
    "        print(current.data, end=' ')\n",
    "    print()\n",
    "\n",
    "memory = []\n",
    "head, current, pre = None, None, None\n",
    "dataArray = [\"다현\", \"정연\", \"쯔위\", \"사나\",\"지효\"]\n",
    "\n",
    "#메인 함수\n",
    "\n",
    "if __name__ == \"__main__\":\n",
    "    \n",
    "    node = Node()\n",
    "    node.data = dataArray[0]\n",
    "    head = node\n",
    "    node.link = head\n",
    "    memory.append(node)\n",
    "    \n",
    "    for data in dataArray[1:]:\n",
    "        pre = node\n",
    "        node = Node()\n",
    "        node.data = data\n",
    "        pre.link = node\n",
    "        node.link = head\n",
    "        memory.append(node)\n",
    "    \n",
    "    printNodes(head)"
   ]
  },
  {
   "cell_type": "code",
   "execution_count": null,
   "id": "15c6762b",
   "metadata": {},
   "outputs": [],
   "source": []
  }
 ],
 "metadata": {
  "kernelspec": {
   "display_name": "Python 3 (ipykernel)",
   "language": "python",
   "name": "python3"
  },
  "language_info": {
   "codemirror_mode": {
    "name": "ipython",
    "version": 3
   },
   "file_extension": ".py",
   "mimetype": "text/x-python",
   "name": "python",
   "nbconvert_exporter": "python",
   "pygments_lexer": "ipython3",
   "version": "3.9.7"
  }
 },
 "nbformat": 4,
 "nbformat_minor": 5
}
