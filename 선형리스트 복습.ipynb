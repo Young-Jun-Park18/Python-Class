{
 "cells": [
  {
   "cell_type": "markdown",
   "id": "c61a4545",
   "metadata": {},
   "source": [
    "# 선형 리스트"
   ]
  },
  {
   "cell_type": "code",
   "execution_count": null,
   "id": "0950ceee",
   "metadata": {},
   "outputs": [],
   "source": [
    "def add_data(friend): #user가 1번 추가를 선택했을 때 호출할 add 함수\n",
    "    katok.append(None)\n",
    "    data_lenght = len(katok)\n",
    "    katok[data_lenght-1] = friend"
   ]
  },
  {
   "cell_type": "code",
   "execution_count": null,
   "id": "4d6daf86",
   "metadata": {},
   "outputs": [],
   "source": [
    "def delete_data(position): #user가 2번 삭제를 선택했을 때 호출할 delete 함수\n",
    "    num = position\n",
    "    del katok[num-1]"
   ]
  },
  {
   "cell_type": "code",
   "execution_count": null,
   "id": "5afc9e59",
   "metadata": {},
   "outputs": [],
   "source": [
    "katok = []\n",
    "select = -1\n",
    "if __name__ ==\"__main__\":\n",
    "    while(select != 3):\n",
    "        select = int(input(\"선택하세요(1: 추가, 2: 삭제, 3: 종료)-->\"))\n",
    "        \n",
    "        if(select == 1):\n",
    "            data_name = input(\"이름을 입력하세요-->\", end=\"\")\n",
    "            data_tall = int(input(\"키를 입력하세요 -->\", end=\"\"))\n",
    "            data = (data_name, data_tall)\n",
    "            add_data(data)\n",
    "            katok.sort()\n",
    "            print(katok)\n",
    "            \n",
    "        elif(select == 2):\n",
    "            delete_num = int(input(\"삭제할 위치를 입력하세요\", end =\"\"))\n",
    "            delete_data(delete_num)\n",
    "            print(katok)\n",
    "        elif(select == 3):\n",
    "            print(katok)\n",
    "            exit\n",
    "        else:\n",
    "            print(\"1~3 중 하나를 입력하세요.\")\n",
    "            continue"
   ]
  }
 ],
 "metadata": {
  "kernelspec": {
   "display_name": "Python 3 (ipykernel)",
   "language": "python",
   "name": "python3"
  },
  "language_info": {
   "codemirror_mode": {
    "name": "ipython",
    "version": 3
   },
   "file_extension": ".py",
   "mimetype": "text/x-python",
   "name": "python",
   "nbconvert_exporter": "python",
   "pygments_lexer": "ipython3",
   "version": "3.9.7"
  }
 },
 "nbformat": 4,
 "nbformat_minor": 5
}
