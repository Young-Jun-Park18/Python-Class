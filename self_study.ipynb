{
 "cells": [
  {
   "cell_type": "markdown",
   "id": "62c4efc6",
   "metadata": {},
   "source": [
    "# 자동 로또 번호 생성기"
   ]
  },
  {
   "cell_type": "code",
   "execution_count": 1,
   "id": "fb4ca2d2",
   "metadata": {},
   "outputs": [],
   "source": [
    "# 1~45 숫자 중에서 6개를 고르는 로또 번호를 자동으로 만들어 주는 프로그램을 작성하자.\n",
    "# 사용자가 입력한 갯수만큼 번호 쌍을 생성해주는 기능을 한다."
   ]
  },
  {
   "cell_type": "code",
   "execution_count": 18,
   "id": "55944911",
   "metadata": {},
   "outputs": [
    {
     "name": "stdout",
     "output_type": "stream",
     "text": [
      "** 로또 번호 생성을 시작합니다. **\n",
      "몇 번을 뽑을까요?5\n",
      "자동번호 --> [9, 20, 23, 27, 43, 45]\n",
      "자동번호 --> [16, 20, 22, 24, 39, 44]\n",
      "자동번호 --> [1, 11, 23, 25, 37, 39]\n",
      "자동번호 --> [1, 8, 15, 23, 36, 40]\n",
      "자동번호 --> [5, 11, 13, 15, 37, 43]\n"
     ]
    }
   ],
   "source": [
    "import random\n",
    "print(\"** 로또 번호 생성을 시작합니다. **\")\n",
    "\n",
    "#로또 번호 1~ 45를 먼저 리스트에 담고 출력\n",
    "#rotto_num = list(range(1, 46))\n",
    "#print(rotto_num)\n",
    "\n",
    "count = int(input(\"몇 번을 뽑을까요?\"))\n",
    "\n",
    "#int형 말고 range()로 뽑아야 한다.\n",
    "for i in range(count):\n",
    "    #1~45 번호 중에서 .saple함수로 6개를 뽑을건데 랜덤값이니까 random.sample(rotto_num, 6)\n",
    "    random_num = random.sample(rotto_num, 6)\n",
    "#    print(random_num)\n",
    "    #무작위로 뽑힌 숫자를 오름차순으로 정렬\n",
    "    random_num.sort()\n",
    "    print(\"자동번호 -->\", random_num)"
   ]
  },
  {
   "cell_type": "code",
   "execution_count": 19,
   "id": "269f4595",
   "metadata": {},
   "outputs": [],
   "source": [
    "#오류 : for문에 반복 횟수를 int형으로 주다가 error \n",
    "#해결 : range()를 사용하여 범위를 줬음\n",
    "\n",
    "#오류 : 리스트에서 6개의 값을 뽑을 수 없었음\n",
    "#해결 : sample()함수를 통해 해결\n",
    "\n",
    "#오류 : 순서가 뒤죽박죽임\n",
    "#해결 : sort() 함수를 통해 해결"
   ]
  },
  {
   "cell_type": "markdown",
   "id": "1bc9e5ce",
   "metadata": {},
   "source": [
    "# 글자 수 세기"
   ]
  },
  {
   "cell_type": "code",
   "execution_count": 20,
   "id": "dbfb797a",
   "metadata": {},
   "outputs": [],
   "source": [
    "# 나 보기가 역겨워\n",
    "# 가실 때에는\n",
    "# 말없이 고이 보내 드리오리다.\n",
    "# 영변에 약산\n",
    "# 진달래꽃,\n",
    "# 아름 따다 가실 길에 뿌리오리다.\n",
    "# 가시는 걸음걸음\n",
    "# 놓인 그 꽃을\n",
    "# 사뿐히 즈려 밟고 가시옵소서.\n",
    "# 나 보기가 역겨워\n",
    "# 가실 때에는\n",
    "# 죽어도 아니 눈물 흘리오리다.\n",
    "\n",
    "#문자 빈도수(4회 이상이면 화면에 출력하면서 횟수도 출력)"
   ]
  },
  {
   "cell_type": "code",
   "execution_count": null,
   "id": "7e84847b",
   "metadata": {},
   "outputs": [],
   "source": []
  }
 ],
 "metadata": {
  "kernelspec": {
   "display_name": "Python 3 (ipykernel)",
   "language": "python",
   "name": "python3"
  },
  "language_info": {
   "codemirror_mode": {
    "name": "ipython",
    "version": 3
   },
   "file_extension": ".py",
   "mimetype": "text/x-python",
   "name": "python",
   "nbconvert_exporter": "python",
   "pygments_lexer": "ipython3",
   "version": "3.9.12"
  }
 },
 "nbformat": 4,
 "nbformat_minor": 5
}
