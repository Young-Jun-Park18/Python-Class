{
 "cells": [
  {
   "cell_type": "code",
   "execution_count": 5,
   "id": "4e327958",
   "metadata": {},
   "outputs": [
    {
     "name": "stdout",
     "output_type": "stream",
     "text": [
      "1번째 숫자 : 10\n",
      "2번째 숫자 : 20\n",
      "3번째 숫자 : 03\n",
      "4번째 숫자 : 40\n",
      "합계 ==> 73\n"
     ]
    }
   ],
   "source": [
    "aa = []\n",
    "for i in range(0, 4):\n",
    "    aa.append(0)\n",
    "hap = 0\n",
    "\n",
    "for i in range(0, 4):\n",
    "    aa[i] = int(input(str(i+1) + \"번째 숫자 : \"))\n",
    "hap = 0\n",
    "for i in range(0, 4):\n",
    "    hap = hap + aa[i]\n",
    "    \n",
    "print(\"합계 ==> %d\" % hap)"
   ]
  },
  {
   "cell_type": "code",
   "execution_count": 9,
   "id": "33b68686",
   "metadata": {},
   "outputs": [
    {
     "name": "stdout",
     "output_type": "stream",
     "text": [
      "현재 리스트 : [30, 10, 20]\n",
      ".append(40) 후의 리스트 [30, 10, 20, 40]\n",
      ".pop()으로 추출한 값 40\n",
      ".pop() 이후의 리스트 : [30, 10, 20]\n",
      ".sort()이후의 리스트 : [10, 20, 30]\n",
      ".reverse()이후의 리스트 : [30, 20, 10]\n"
     ]
    }
   ],
   "source": [
    "myList = [30, 10, 20]\n",
    "print(\"현재 리스트 : %s\" %  myList)\n",
    "myList.append(40)\n",
    "print(\".append(40) 후의 리스트 %s\" % myList) #append는 추가입니다.\n",
    "print(\".pop()으로 추출한 값 %s\" % myList.pop())\n",
    "print(\".pop() 이후의 리스트 : %s\" % myList) #pop은 제거입니다.\n",
    "\n",
    "myList.sort()\n",
    "print(\".sort()이후의 리스트 : %s\" % myList) #sort()는 정렬입니다.\n",
    "\n",
    "myList.reverse()\n",
    "print(\".reverse()이후의 리스트 : %s\" % myList)"
   ]
  },
  {
   "cell_type": "code",
   "execution_count": 12,
   "id": "af935a5c",
   "metadata": {},
   "outputs": [
    {
     "ename": "NameError",
     "evalue": "name 'append' is not defined",
     "output_type": "error",
     "traceback": [
      "\u001b[1;31m---------------------------------------------------------------------------\u001b[0m",
      "\u001b[1;31mNameError\u001b[0m                                 Traceback (most recent call last)",
      "\u001b[1;32m~\\AppData\\Local\\Temp/ipykernel_5424/3156948204.py\u001b[0m in \u001b[0;36m<module>\u001b[1;34m\u001b[0m\n\u001b[0;32m      6\u001b[0m         \u001b[0mlist1\u001b[0m\u001b[1;33m.\u001b[0m\u001b[0mappend\u001b[0m\u001b[1;33m(\u001b[0m\u001b[0mvalue\u001b[0m\u001b[1;33m)\u001b[0m\u001b[1;33m\u001b[0m\u001b[1;33m\u001b[0m\u001b[0m\n\u001b[0;32m      7\u001b[0m         \u001b[0mvalue\u001b[0m \u001b[1;33m+=\u001b[0m \u001b[1;36m1\u001b[0m\u001b[1;33m\u001b[0m\u001b[1;33m\u001b[0m\u001b[0m\n\u001b[1;32m----> 8\u001b[1;33m     \u001b[0mlist2\u001b[0m \u001b[1;33m=\u001b[0m \u001b[0mappend\u001b[0m\u001b[1;33m(\u001b[0m\u001b[0mlist1\u001b[0m\u001b[1;33m)\u001b[0m\u001b[1;33m\u001b[0m\u001b[1;33m\u001b[0m\u001b[0m\n\u001b[0m\u001b[0;32m      9\u001b[0m     \u001b[0mlist1\u001b[0m \u001b[1;33m=\u001b[0m \u001b[1;33m[\u001b[0m\u001b[1;33m]\u001b[0m\u001b[1;33m\u001b[0m\u001b[1;33m\u001b[0m\u001b[0m\n\u001b[0;32m     10\u001b[0m \u001b[1;33m\u001b[0m\u001b[0m\n",
      "\u001b[1;31mNameError\u001b[0m: name 'append' is not defined"
     ]
    }
   ],
   "source": [
    "list1 = []\n",
    "list2 = []\n",
    "value = 1\n",
    "for i in range(0,4):\n",
    "    for j in range(0,3):\n",
    "        list1.append(value)\n",
    "        value += 1\n",
    "    list2 = append(list1)\n",
    "    list1 = []\n",
    "    \n",
    "for i in range(0, 4):\n",
    "    for j in range(0, 3):\n",
    "        print(\"%d\" % list2[i][j], end = \" \")\n",
    "    print(\" \")"
   ]
  },
  {
   "cell_type": "code",
   "execution_count": 14,
   "id": "3228f4b2",
   "metadata": {},
   "outputs": [
    {
     "name": "stdout",
     "output_type": "stream",
     "text": [
      "[1, 2, 3, 4, 5]\n"
     ]
    }
   ],
   "source": [
    "numList = [num for num in range(1, 6)]\n",
    "print(numList)"
   ]
  },
  {
   "cell_type": "code",
   "execution_count": null,
   "id": "1c84d328",
   "metadata": {},
   "outputs": [],
   "source": []
  }
 ],
 "metadata": {
  "kernelspec": {
   "display_name": "Python 3 (ipykernel)",
   "language": "python",
   "name": "python3"
  },
  "language_info": {
   "codemirror_mode": {
    "name": "ipython",
    "version": 3
   },
   "file_extension": ".py",
   "mimetype": "text/x-python",
   "name": "python",
   "nbconvert_exporter": "python",
   "pygments_lexer": "ipython3",
   "version": "3.9.7"
  }
 },
 "nbformat": 4,
 "nbformat_minor": 5
}
