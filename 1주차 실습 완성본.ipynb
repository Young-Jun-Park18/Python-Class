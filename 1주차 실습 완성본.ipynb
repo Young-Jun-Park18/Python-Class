{
 "cells": [
  {
   "cell_type": "markdown",
   "id": "3c538972",
   "metadata": {},
   "source": [
    "# 이것은 집에서 실습하기 위해 만든 문서입니다"
   ]
  },
  {
   "cell_type": "code",
   "execution_count": 30,
   "id": "b31627ce",
   "metadata": {},
   "outputs": [],
   "source": [
    "# esc를 누르면 commend mode가 활성화 됩니다\n",
    "# 이 상태에서 a는 위에 cell을 추가하고, b는 아래에 cell을 추가합니다\n",
    "# 또한, shift + enter = 현재 cell을 실행 후 밑의 cell로 이동합니다."
   ]
  },
  {
   "cell_type": "code",
   "execution_count": null,
   "id": "5d417fbe",
   "metadata": {},
   "outputs": [],
   "source": [
    "ㅇ"
   ]
  },
  {
   "cell_type": "code",
   "execution_count": null,
   "id": "54c3a997",
   "metadata": {},
   "outputs": [],
   "source": []
  },
  {
   "cell_type": "markdown",
   "id": "fc57561a",
   "metadata": {},
   "source": [
    "# 이제 위 3가지를 실습해보겠습니다"
   ]
  },
  {
   "cell_type": "code",
   "execution_count": null,
   "id": "6acbe26c",
   "metadata": {},
   "outputs": [],
   "source": [
    "# ~~~~~~~"
   ]
  },
  {
   "cell_type": "code",
   "execution_count": null,
   "id": "fbf80dde",
   "metadata": {},
   "outputs": [],
   "source": [
    "#esc ---> a"
   ]
  },
  {
   "cell_type": "code",
   "execution_count": null,
   "id": "5dbcdc9e",
   "metadata": {},
   "outputs": [],
   "source": []
  },
  {
   "cell_type": "code",
   "execution_count": 3,
   "id": "438a1c25",
   "metadata": {},
   "outputs": [],
   "source": [
    "#esc ---> b"
   ]
  },
  {
   "cell_type": "markdown",
   "id": "eaf816c0",
   "metadata": {},
   "source": [
    "# 다음은 셀을 지우거나 되돌리는 방법을 알아보겠습니다"
   ]
  },
  {
   "cell_type": "code",
   "execution_count": 4,
   "id": "7cb3d7b8",
   "metadata": {},
   "outputs": [],
   "source": [
    "#esc를 눌러 commend mode를 활성화한 후 dd를 입력하면 선택된 cell이 제거됩니다.\n",
    "#지운 cell을 되돌리고 싶다면 esc를 눌러 commend mode를 활성화한 후 z를 입력하면 제거된 cell이 돌아옵니다."
   ]
  },
  {
   "cell_type": "markdown",
   "id": "c232ed09",
   "metadata": {},
   "source": [
    "# 위 2가지 기능을 실습해보겠습니다"
   ]
  },
  {
   "cell_type": "code",
   "execution_count": 5,
   "id": "b30612ad",
   "metadata": {},
   "outputs": [],
   "source": [
    "#이 line은 dd로 제거되었다가 z로 되돌아온 cell입니다"
   ]
  },
  {
   "cell_type": "markdown",
   "id": "3162c0b0",
   "metadata": {},
   "source": [
    "# 지금 이 주석은 commend mode에서 m을 눌러 markdown모드로 쓴 것입니다. enter를 누르면 클릭을 하지 않아도 커서를 깜빡이게 할 수 있습니다."
   ]
  },
  {
   "cell_type": "markdown",
   "id": "2a845255",
   "metadata": {},
   "source": [
    "# markdown mode에서 y를 누르면 다시 edit 할 수 있습니다."
   ]
  },
  {
   "cell_type": "code",
   "execution_count": 6,
   "id": "06a5d493",
   "metadata": {},
   "outputs": [],
   "source": [
    "#cell 복사는 esc를 눌러 commend mode를 활성화한 후 v를 누르면 선택된 cell이 복사됩니다\n",
    "#이 복사된 cell은 v키로 밑에 붙여넣을 수 있으면 shift + v로 위에 붙여넣을 수 있습니다"
   ]
  },
  {
   "cell_type": "markdown",
   "id": "d0c03788",
   "metadata": {},
   "source": [
    "# 위 2가지를 실습해보겠습니다"
   ]
  },
  {
   "cell_type": "code",
   "execution_count": null,
   "id": "9ea8ce2d",
   "metadata": {},
   "outputs": [],
   "source": [
    "#복사용 cell입니다 (shift + v 복사본)"
   ]
  },
  {
   "cell_type": "code",
   "execution_count": null,
   "id": "6991d5eb",
   "metadata": {},
   "outputs": [],
   "source": [
    "#복사용 cell입니다 (원본)"
   ]
  },
  {
   "cell_type": "code",
   "execution_count": 7,
   "id": "8cba8def",
   "metadata": {},
   "outputs": [],
   "source": [
    "#복사용 cell입니다 (v 복사본)"
   ]
  },
  {
   "cell_type": "markdown",
   "id": "a64a06d0",
   "metadata": {},
   "source": [
    "# 다음은 cell을 합치거나 나누는 방법을 알아보도록 하겠습니다"
   ]
  },
  {
   "cell_type": "code",
   "execution_count": 9,
   "id": "81847b65",
   "metadata": {},
   "outputs": [],
   "source": [
    "#원하는 곳에 커서를 두고 ctrl shift - 를 누르면 그 부분에서 cell이 나누어 집니다\n",
    "#상단 Edit 카테고리에서 Merge cell above를 누르면 선택된 cell과 상단 cell이 합쳐집니다\n",
    "#상단 Edit 카테고리에서 Merge cell below를 누르면 석택된 cell과 하단 cell이 합쳐집니다"
   ]
  },
  {
   "cell_type": "markdown",
   "id": "b8c370ab",
   "metadata": {},
   "source": [
    "# 위 3가지를 실습해보겠습니다"
   ]
  },
  {
   "cell_type": "code",
   "execution_count": null,
   "id": "e0c97017",
   "metadata": {},
   "outputs": [],
   "source": [
    "#이 문장이 끝나는 곳에서 cell을 나누어주세요"
   ]
  },
  {
   "cell_type": "code",
   "execution_count": 10,
   "id": "f9af745a",
   "metadata": {},
   "outputs": [],
   "source": [
    "#저는 곧 나뉠 cell 문장입니다"
   ]
  },
  {
   "cell_type": "code",
   "execution_count": 11,
   "id": "b034709d",
   "metadata": {},
   "outputs": [],
   "source": [
    "#저는 곧 밑의 셀과 합쳐집니다\n",
    "\n",
    "#저를 위의 셀과 합쳐주세요"
   ]
  },
  {
   "cell_type": "code",
   "execution_count": 12,
   "id": "604bb1fb",
   "metadata": {},
   "outputs": [],
   "source": [
    "#저는 밑의 셀과 합쳐주세요\n",
    "\n",
    "#저는 곧 위의 셀과 합쳐질 line입니다"
   ]
  },
  {
   "cell_type": "markdown",
   "id": "6e569d02",
   "metadata": {},
   "source": [
    "# %timeit은 cell에서 그 line에 연산 시간을 알려줍니다"
   ]
  },
  {
   "cell_type": "code",
   "execution_count": 14,
   "id": "905cb0b3",
   "metadata": {},
   "outputs": [
    {
     "name": "stdout",
     "output_type": "stream",
     "text": [
      "38.7 ns ± 0.347 ns per loop (mean ± std. dev. of 7 runs, 10,000,000 loops each)\n"
     ]
    }
   ],
   "source": [
    "a = 3; b = 2\n",
    "%timeit a + b"
   ]
  },
  {
   "cell_type": "markdown",
   "id": "80c9dc78",
   "metadata": {},
   "source": [
    "# %%timeit은 cell 전체의 연산 시간을  알려줍니다"
   ]
  },
  {
   "cell_type": "code",
   "execution_count": 31,
   "id": "afa54e12",
   "metadata": {},
   "outputs": [
    {
     "name": "stdout",
     "output_type": "stream",
     "text": [
      "136 ns ± 1.34 ns per loop (mean ± std. dev. of 7 runs, 10,000,000 loops each)\n"
     ]
    }
   ],
   "source": [
    "%%timeit\n",
    "def add(a,b): #클론을 빼먹어서 error가 났네요\n",
    "    return a + b\n",
    "\n",
    "\n",
    "add(3, 2)\n",
    "#error가 떴지만 아직 python을 할 줄 모르기 때문에 일단 넘어가겠습니다"
   ]
  },
  {
   "cell_type": "markdown",
   "id": "02b60198",
   "metadata": {},
   "source": [
    "# 이미지와 동영상도 링크만 있다면 불러올 수 있습니다"
   ]
  },
  {
   "cell_type": "code",
   "execution_count": 26,
   "id": "4c210166",
   "metadata": {},
   "outputs": [
    {
     "data": {
      "text/html": [
       "<img src=\"https://encrypted-tbn0.gstatic.com/images?q=tbn:ANd9GcQd1t_R3U62W5cyuAtfSlKsa-WwgnR7Q2og2w&usqp=CAU\" width=\"400\" height=\"100\"/>"
      ],
      "text/plain": [
       "<IPython.core.display.Image object>"
      ]
     },
     "execution_count": 26,
     "metadata": {},
     "output_type": "execute_result"
    }
   ],
   "source": [
    "from IPython.display import Image\n",
    "Image(url=\"https://encrypted-tbn0.gstatic.com/images?q=tbn:ANd9GcQd1t_R3U62W5cyuAtfSlKsa-WwgnR7Q2og2w&usqp=CAU\", width = 400, height = 100)"
   ]
  },
  {
   "cell_type": "code",
   "execution_count": null,
   "id": "10ddb241",
   "metadata": {},
   "outputs": [],
   "source": [
    "#저는 곧 위의 셀과 합쳐질 line입니다"
   ]
  },
  {
   "cell_type": "code",
   "execution_count": 27,
   "id": "dfc99b1c",
   "metadata": {},
   "outputs": [
    {
     "data": {
      "image/jpeg": "[encoded data removed]",
      "text/html": [
       "\n",
       "        <iframe\n",
       "            width=\"400\"\n",
       "            height=\"300\"\n",
       "            src=\"https://www.youtube.com/embed/hmfPMzovvso\"\n",
       "            frameborder=\"0\"\n",
       "            allowfullscreen\n",
       "            \n",
       "        ></iframe>\n",
       "        "
      ],
      "text/plain": [
       "<IPython.lib.display.YouTubeVideo at 0x226928d9070>"
      ]
     },
     "execution_count": 27,
     "metadata": {},
     "output_type": "execute_result"
    }
   ],
   "source": [
    "from IPython.display import YouTubeVideo\n",
    "YouTubeVideo('hmfPMzovvso')\n",
    "#유튜브 동영상 링크는 뒤쪽 일부만 발췌해서 복붙해야합니다"
   ]
  },
  {
   "cell_type": "markdown",
   "id": "0034059e",
   "metadata": {},
   "source": [
    "# 그래프도 나타낼 수 있습니다"
   ]
  },
  {
   "cell_type": "code",
   "execution_count": 28,
   "id": "9d227268",
   "metadata": {},
   "outputs": [
    {
     "data": {
      "image/png": "[encoded data removed]",
      "text/plain": [
       "<Figure size 432x288 with 1 Axes>"
      ]
     },
     "metadata": {
      "needs_background": "light"
     },
     "output_type": "display_data"
    }
   ],
   "source": [
    "import matplotlib.pyplot as plt\n",
    "plt.plot([1,2,3,4])\n",
    "plt.ylabel('result')\n",
    "plt.show()"
   ]
  },
  {
   "cell_type": "code",
   "execution_count": null,
   "id": "ea48c227",
   "metadata": {},
   "outputs": [],
   "source": []
  }
 ],
 "metadata": {
  "kernelspec": {
   "display_name": "Python 3 (ipykernel)",
   "language": "python",
   "name": "python3"
  },
  "language_info": {
   "codemirror_mode": {
    "name": "ipython",
    "version": 3
   },
   "file_extension": ".py",
   "mimetype": "text/x-python",
   "name": "python",
   "nbconvert_exporter": "python",
   "pygments_lexer": "ipython3",
   "version": "3.9.12"
  }
 },
 "nbformat": 4,
 "nbformat_minor": 5
}
