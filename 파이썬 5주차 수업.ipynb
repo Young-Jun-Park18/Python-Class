{
 "cells": [
  {
   "cell_type": "markdown",
   "id": "5b3e2d03",
   "metadata": {},
   "source": [
    "# 5주차 수업입니다."
   ]
  },
  {
   "cell_type": "code",
   "execution_count": 1,
   "id": "efb18c00",
   "metadata": {},
   "outputs": [
    {
     "name": "stdout",
     "output_type": "stream",
     "text": [
      "['다현', '정연', '쯔위', '사나', '지효']\n"
     ]
    }
   ],
   "source": [
    "katok = [\"다현\",\"정연\",\"쯔위\",\"사나\",\"지효\"]\n",
    "print(katok)"
   ]
  },
  {
   "cell_type": "code",
   "execution_count": 4,
   "id": "494b9365",
   "metadata": {},
   "outputs": [
    {
     "name": "stdout",
     "output_type": "stream",
     "text": [
      "다현\n",
      "지효\n"
     ]
    }
   ],
   "source": [
    "print(katok[0])\n",
    "print(katok[4])\n",
    "#print안에 index값을 넣어서 그 자리의 값을 출력할 수 있다."
   ]
  },
  {
   "cell_type": "code",
   "execution_count": 6,
   "id": "0b710e80",
   "metadata": {},
   "outputs": [
    {
     "name": "stdout",
     "output_type": "stream",
     "text": [
      "['다현', '정연', '쯔위', '사나', '지효', None]\n"
     ]
    }
   ],
   "source": [
    "katok.append(None)\n",
    "print(katok)"
   ]
  },
  {
   "cell_type": "code",
   "execution_count": 7,
   "id": "9974d624",
   "metadata": {},
   "outputs": [
    {
     "name": "stdout",
     "output_type": "stream",
     "text": [
      "['다현', '정연', '쯔위', '사나', '지효', None, '영준']\n"
     ]
    }
   ],
   "source": [
    "katok.append(\"영준\")\n",
    "print(katok)"
   ]
  },
  {
   "cell_type": "code",
   "execution_count": 9,
   "id": "55296531",
   "metadata": {},
   "outputs": [
    {
     "name": "stdout",
     "output_type": "stream",
     "text": [
      "['다현', '정연', '쯔위', '사나', '지효', '지훈', '영준']\n"
     ]
    }
   ],
   "source": [
    "#위와 같이 .append(\"\")를 통해 주입하면 None자리는 그대로 비어있다.\n",
    "#따라서 그 인덱스 값에 문자열을 입력해주면 된다.\n",
    "katok[5] = \"지훈\"\n",
    "print(katok)"
   ]
  },
  {
   "cell_type": "code",
   "execution_count": 10,
   "id": "54467813",
   "metadata": {},
   "outputs": [
    {
     "name": "stdout",
     "output_type": "stream",
     "text": [
      "['다현', '정연', '쯔위', '사나', '지효', '지훈', '영준', '영준']\n"
     ]
    }
   ],
   "source": [
    "#3번 자리에 미나를 삽입하고 싶다면?\n",
    "katok.append(None) #쌍따옴표는 적지 않는다.\n",
    "katok[7] = katok[6]\n",
    "print(katok)"
   ]
  },
  {
   "cell_type": "code",
   "execution_count": 11,
   "id": "ee657d61",
   "metadata": {},
   "outputs": [
    {
     "name": "stdout",
     "output_type": "stream",
     "text": [
      "['다현', '정연', '쯔위', '사나', '지효', '지훈', None, '영준']\n"
     ]
    }
   ],
   "source": [
    "#값을 대입해주면 복사가 되기 때문에 복사했던 자리는 None으로 돌려놔야한다.\n",
    "katok[6] = None #따옴표는 사용하지 않는다\n",
    "print(katok)"
   ]
  },
  {
   "cell_type": "code",
   "execution_count": 12,
   "id": "6b5fe7b1",
   "metadata": {},
   "outputs": [
    {
     "name": "stdout",
     "output_type": "stream",
     "text": [
      "[None, '다현', '정연', '쯔위', '사나', '지효', '지훈', '영준']\n"
     ]
    }
   ],
   "source": [
    "katok[6] = katok[5]\n",
    "katok[5] = None\n",
    "katok[5] = katok[4]\n",
    "katok[4] = None\n",
    "katok[4] = katok[3]\n",
    "katok[3] = None\n",
    "katok[3] = katok[2]\n",
    "katok[2] = None\n",
    "katok[2] = katok[1]\n",
    "katok[1] = None\n",
    "katok[1] = katok[0]\n",
    "katok[0] = None\n",
    "print(katok)"
   ]
  },
  {
   "cell_type": "code",
   "execution_count": 13,
   "id": "f5dbeb03",
   "metadata": {},
   "outputs": [
    {
     "name": "stdout",
     "output_type": "stream",
     "text": [
      "['다현', '정연', '쯔위', '사나', '지효', '지훈', '영준']\n"
     ]
    }
   ],
   "source": [
    "# 중간 삭제를 할 수 있습니다.\n",
    "del(katok[0])\n",
    "print(katok)"
   ]
  },
  {
   "cell_type": "code",
   "execution_count": 15,
   "id": "94584baa",
   "metadata": {},
   "outputs": [
    {
     "name": "stdout",
     "output_type": "stream",
     "text": [
      "['다현', '정연', '사나', '지효', '지훈', '영준', '쯔위']\n"
     ]
    }
   ],
   "source": [
    "katok.append(None)\n",
    "katok[7] = katok[2]\n",
    "katok[2] = None\n",
    "del(katok[2])\n",
    "print(katok)"
   ]
  },
  {
   "cell_type": "code",
   "execution_count": 31,
   "id": "8536f850",
   "metadata": {},
   "outputs": [
    {
     "ename": "TypeError",
     "evalue": "int() argument must be a string, a bytes-like object or a number, not 'list'",
     "output_type": "error",
     "traceback": [
      "\u001b[1;31m---------------------------------------------------------------------------\u001b[0m",
      "\u001b[1;31mTypeError\u001b[0m                                 Traceback (most recent call last)",
      "\u001b[1;32m~\\AppData\\Local\\Temp/ipykernel_5516/3012100806.py\u001b[0m in \u001b[0;36m<module>\u001b[1;34m\u001b[0m\n\u001b[0;32m      2\u001b[0m \u001b[0mkatok2\u001b[0m \u001b[1;33m=\u001b[0m \u001b[1;33m[\u001b[0m\u001b[1;33m]\u001b[0m\u001b[1;33m\u001b[0m\u001b[1;33m\u001b[0m\u001b[0m\n\u001b[0;32m      3\u001b[0m \u001b[0mkatok2\u001b[0m\u001b[1;33m.\u001b[0m\u001b[0mappend\u001b[0m\u001b[1;33m(\u001b[0m\u001b[1;32mNone\u001b[0m\u001b[1;33m)\u001b[0m\u001b[1;33m\u001b[0m\u001b[1;33m\u001b[0m\u001b[0m\n\u001b[1;32m----> 4\u001b[1;33m \u001b[0mlen1\u001b[0m \u001b[1;33m=\u001b[0m \u001b[0mint\u001b[0m\u001b[1;33m(\u001b[0m\u001b[0mkatok\u001b[0m\u001b[1;33m)\u001b[0m\u001b[1;33m\u001b[0m\u001b[1;33m\u001b[0m\u001b[0m\n\u001b[0m\u001b[0;32m      5\u001b[0m \u001b[0mkatok2\u001b[0m\u001b[1;33m[\u001b[0m\u001b[0mlen1\u001b[0m\u001b[1;33m-\u001b[0m\u001b[1;36m1\u001b[0m\u001b[1;33m]\u001b[0m \u001b[1;33m=\u001b[0m \u001b[1;34m'정연'\u001b[0m\u001b[1;33m\u001b[0m\u001b[1;33m\u001b[0m\u001b[0m\n\u001b[0;32m      6\u001b[0m \u001b[0mprint\u001b[0m\u001b[1;33m(\u001b[0m\u001b[0mkatok2\u001b[0m\u001b[1;33m)\u001b[0m                      \u001b[1;31m#뭐가 문제일까?\u001b[0m\u001b[1;33m\u001b[0m\u001b[1;33m\u001b[0m\u001b[0m\n",
      "\u001b[1;31mTypeError\u001b[0m: int() argument must be a string, a bytes-like object or a number, not 'list'"
     ]
    }
   ],
   "source": [
    "#배열을 이용해서 리스트를 만들 수 있습니다.\n",
    "katok2 = []\n",
    "katok2.append(None)\n",
    "len1 = int(katok)\n",
    "katok2[len1-1] = '정연'\n",
    "print(katok2)                      #뭐가 문제일까? "
   ]
  },
  {
   "cell_type": "code",
   "execution_count": 37,
   "id": "ad1de873",
   "metadata": {},
   "outputs": [
    {
     "name": "stdout",
     "output_type": "stream",
     "text": [
      "['영준', '지훈']\n"
     ]
    }
   ],
   "source": [
    "#선형리스트를 함수로 만들어보자\n",
    "katok3 = []\n",
    "def add_data(friend):\n",
    "    katok3.append(None)\n",
    "    kLen = len(katok3)\n",
    "    katok3[kLen-1] = friend\n",
    "    \n",
    "add_data(\"영준\")\n",
    "add_data(\"지훈\")\n",
    "print(katok3)"
   ]
  },
  {
   "cell_type": "code",
   "execution_count": 38,
   "id": "5e97b82f",
   "metadata": {},
   "outputs": [
    {
     "ename": "IndentationError",
     "evalue": "expected an indented block (Temp/ipykernel_5516/574097589.py, line 2)",
     "output_type": "error",
     "traceback": [
      "\u001b[1;36m  File \u001b[1;32m\"C:\\Users\\HP1\\AppData\\Local\\Temp/ipykernel_5516/574097589.py\"\u001b[1;36m, line \u001b[1;32m2\u001b[0m\n\u001b[1;33m    def insert_myfriend(position, friend):\u001b[0m\n\u001b[1;37m                                          ^\u001b[0m\n\u001b[1;31mIndentationError\u001b[0m\u001b[1;31m:\u001b[0m expected an indented block\n"
     ]
    }
   ],
   "source": [
    "my_friend = []\n",
    "def insert_myfriend(position, friend):\n",
    "    if position != None:\n",
    "        for i in  \n",
    "        \n",
    "# insert data를 미해결 했으니 다시 공부하기      "
   ]
  },
  {
   "cell_type": "code",
   "execution_count": 41,
   "id": "58b1bdea",
   "metadata": {},
   "outputs": [
    {
     "name": "stdout",
     "output_type": "stream",
     "text": [
      "['다현', '쯔위', '사나', '지효']\n",
      "['다현', '사나', '지효']\n"
     ]
    }
   ],
   "source": [
    "kakaotok = ['다현', '정연', '쯔위', '사나', '지효']\n",
    "\n",
    "def delete_data(position):\n",
    "    if position < 0 or position > len(kakaotok):\n",
    "        print(\"데이터를 삭제할 범위를 벗어났습니다.\")\n",
    "        return \n",
    "     \n",
    "    kLen = len(kakaotok)\n",
    "    kakaotok[position] = None\n",
    "    \n",
    "    for i in range(position+1, kLen):\n",
    "        kakaotok[i -1] = kakaotok[i]\n",
    "        kakaotok[i] = None\n",
    "    \n",
    "    del(kakaotok[kLen-1])\n",
    "    \n",
    "delete_data(1)\n",
    "print(kakaotok)\n",
    "delete_data(1)\n",
    "print(kakaotok)"
   ]
  },
  {
   "cell_type": "code",
   "execution_count": null,
   "id": "12b1a6d9",
   "metadata": {},
   "outputs": [],
   "source": [
    "if __name__ == \"__main__\":\n",
    "    while(select != 4):\n",
    "        select = int(input(\"선택하세요(1: 추가, 2: 삽입, 3: 삭제, 4: 종료-->)\"))\n",
    "        \n",
    "        if(select == 1):\n",
    "            "
   ]
  }
 ],
 "metadata": {
  "kernelspec": {
   "display_name": "Python 3 (ipykernel)",
   "language": "python",
   "name": "python3"
  },
  "language_info": {
   "codemirror_mode": {
    "name": "ipython",
    "version": 3
   },
   "file_extension": ".py",
   "mimetype": "text/x-python",
   "name": "python",
   "nbconvert_exporter": "python",
   "pygments_lexer": "ipython3",
   "version": "3.9.7"
  }
 },
 "nbformat": 4,
 "nbformat_minor": 5
}
