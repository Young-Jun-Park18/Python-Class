{
 "cells": [
  {
   "cell_type": "markdown",
   "id": "2825b9dd",
   "metadata": {},
   "source": [
    "# 단순연결리스트"
   ]
  },
  {
   "cell_type": "code",
   "execution_count": 2,
   "id": "d94674fb",
   "metadata": {},
   "outputs": [
    {
     "name": "stdout",
     "output_type": "stream",
     "text": [
      "다현 "
     ]
    }
   ],
   "source": [
    "#노드 생성 : 클래스라는 문법을 사용하여 Node 데이터형 정의\n",
    "class Node():\n",
    "    def __init__(self): #Node()라는 클래스를 불러올 떄 기본적으로 밑의 내용이 포함\n",
    "        self.data = None\n",
    "        self.link = None\n",
    "        \n",
    "#첫 번째 노드를 생성하기 위한 코드\n",
    "node1 = Node()\n",
    "node1.data = \"다현\"\n",
    "print(node1.data, end =\" \")"
   ]
  },
  {
   "cell_type": "code",
   "execution_count": 3,
   "id": "52c6b95d",
   "metadata": {},
   "outputs": [
    {
     "name": "stdout",
     "output_type": "stream",
     "text": [
      "다현 정연 쯔위 사나 지효 "
     ]
    }
   ],
   "source": [
    "#두 번째 노드를 생성하고 첫 번째 노드의 링크로 연결하는 코드\n",
    "node2 = Node()\n",
    "node2.data = \"정연\"\n",
    "node1.link = node2\n",
    "\n",
    "#세 번째 노드를 생성하고 두 번째 노드의 링크로 연결하는 코드\n",
    "node3 = Node()\n",
    "node3.data = \"쯔위\"\n",
    "node2.link = node3\n",
    "\n",
    "#네 번째 노드를 생성하고 세 번째 노드의 링크로 연결하는 코드\n",
    "node4 = Node()\n",
    "node4.data = \"사나\"\n",
    "node3.link = node4\n",
    "\n",
    "#다섯 번째 노드를 생성하고 여섯 번째 노드의 링크로 연결하는 코드\n",
    "node5 = Node()\n",
    "node5.data = \"지효\"\n",
    "node4.link = node5\n",
    "\n",
    "#출력\n",
    "#print(node1.data, end = \" \")\n",
    "#print(node1.link.data, end = \" \")\n",
    "#print(node1.link.link.data, end = \" \")\n",
    "#print(node1.link.link.link.data, end = \" \")\n",
    "#print(node1.link.link.link.link.data, end = \" \")"
   ]
  },
  {
   "cell_type": "code",
   "execution_count": 5,
   "id": "a4bab67b",
   "metadata": {},
   "outputs": [
    {
     "name": "stdout",
     "output_type": "stream",
     "text": [
      "다현 정연 쯔위 사나 지효 "
     ]
    }
   ],
   "source": [
    "#단순 연결 리스트의 모든 노드를 출력시키는 함수 구현\n",
    "current = node1\n",
    "print(current.data, end = \" \")\n",
    "while current.link != None:\n",
    "    current = current.link\n",
    "    print(current.data, end = \" \")"
   ]
  },
  {
   "cell_type": "code",
   "execution_count": 6,
   "id": "927060c8",
   "metadata": {},
   "outputs": [],
   "source": [
    "# 단순 연결 리스트에서 중간노드 삽입\n",
    "newNode = Node()\n",
    "newNode.data = \"영준\"\n",
    "newNode.link = node2.link\n",
    "node2.link = newNode"
   ]
  },
  {
   "cell_type": "code",
   "execution_count": 7,
   "id": "426b60b0",
   "metadata": {},
   "outputs": [],
   "source": [
    "# 단순 연결 리스트에서 중간 데이터 삭제\n",
    "node2.link = node3.link\n",
    "del(node3)"
   ]
  },
  {
   "cell_type": "code",
   "execution_count": 8,
   "id": "bbd46e96",
   "metadata": {},
   "outputs": [],
   "source": [
    "#단순 연결 리스트의 일반 형태\n",
    "\n",
    "#head는 첫 번째 노드를 가리키고, current는 현재 처리 중인 노드를 가리키며,\n",
    "#pre는 현재 처리 중인 노드의 바로 앞 노드를 가리킴\n",
    "#처음에는 모두 비어 있으면 되므로 초기화 시킴\n",
    "\n",
    "memory = []\n",
    "head, current, pre = None, None, None"
   ]
  },
  {
   "cell_type": "code",
   "execution_count": 9,
   "id": "505161c2",
   "metadata": {},
   "outputs": [],
   "source": [
    "#빈 노드를 생성하고, 데이터를 입력하고, 첫 번째 노드를 head로 지정"
   ]
  },
  {
   "cell_type": "code",
   "execution_count": null,
   "id": "06d1637d",
   "metadata": {},
   "outputs": [],
   "source": [
    "#기존 노드를 임시 저장, 빈 노드 생성, 데이터 입력, 이전의 링크를 새 노드에 대입"
   ]
  }
 ],
 "metadata": {
  "kernelspec": {
   "display_name": "Python 3 (ipykernel)",
   "language": "python",
   "name": "python3"
  },
  "language_info": {
   "codemirror_mode": {
    "name": "ipython",
    "version": 3
   },
   "file_extension": ".py",
   "mimetype": "text/x-python",
   "name": "python",
   "nbconvert_exporter": "python",
   "pygments_lexer": "ipython3",
   "version": "3.9.7"
  }
 },
 "nbformat": 4,
 "nbformat_minor": 5
}
