{
 "cells": [
  {
   "cell_type": "markdown",
   "id": "ed8297b7",
   "metadata": {},
   "source": [
    "# 스택"
   ]
  },
  {
   "cell_type": "code",
   "execution_count": null,
   "id": "f760c41a",
   "metadata": {},
   "outputs": [],
   "source": [
    "# FILO (first in last out, 처음 들어간 데이터가 제일 나중에 나옴)\n",
    "# 스택 자료구조는 한쪽 끝이 막힌 상태\n",
    "\n",
    "#우리가 구현할 것 \n",
    "# 1. push = 집어넣기\n",
    "# 2. pop = 빼고 뺀 것을 출력\n",
    "# 4. top = 스택에 가장 위의 데이터\n",
    "\n",
    "#기본적으로 stack은 칸 수가 정해져있음, top의 초기값은 -1"
   ]
  },
  {
   "cell_type": "code",
   "execution_count": null,
   "id": "6ce93bbc",
   "metadata": {},
   "outputs": [],
   "source": [
    "#함수선언\n",
    "def isStackFull():\n",
    "    global SIZE, stack, top\n",
    "    if (top >= SIZE-1):\n",
    "        return True\n",
    "    else:\n",
    "        return False\n",
    "    \n",
    "def isStackEmpty():\n",
    "    global SIZE, stack, top\n",
    "    if(top == -1):\n",
    "        return True\n",
    "    else:\n",
    "        return False\n",
    "    \n",
    "def push(data):\n",
    "    global SIZE, stack, top\n",
    "    if (isStackFull()):\n",
    "        print(\"스택이 꽉 찼습니다.\")\n",
    "        return \n",
    "    top += 1\n",
    "    stack[top] = data\n",
    "    \n",
    "def pop():\n",
    "    global SIZE, stack, top\n",
    "    if(isStackEmpty()):\n",
    "        print(\"스택이 비었습니다.\")\n",
    "        return None\n",
    "    data = stack[top]\n",
    "    stack[pop] = None\n",
    "    top -= 1\n",
    "    return data\n",
    "\n",
    "def peek():\n",
    "    global SIZE,stack, top\n",
    "    if(isStackEmpty()):\n",
    "        print(\"스택이 비었습니다.\")\n",
    "        return None\n",
    "    return stack[top]\n",
    "\n",
    "#전역 변수 선언 부분\n",
    "SIZE = int(input(\"스택의 크기를 입력하세요 ==> \"))\n",
    "stack = [None for _ in range(SIZE)]\n",
    "top = -1\n",
    "\n",
    "\n",
    "#메인 코드 부분 \n",
    "if __name__ == \"__main__\":\n",
    "    select = input(\"삽입(I)/추출(E)/확인(V)/종료(X) 중 하나를 선택 ==> \")\n",
    "    \n",
    "    while(select != 'X' and select != 'x'):\n",
    "        if select =='I' or select == 'i':\n",
    "            data = input(\"입력할 데이터 ==> \")\n",
    "            push(data)\n",
    "            print(\"스택 상태: \", stack)\n",
    "        elif select == 'E' or select == 'e':\n",
    "            data = pop()\n",
    "            print(\"추출된 데이터 ==> \", data)\n",
    "            print(\"스택 상태 : \",stack)\n",
    "        elif select == 'V' or select == 'v':\n",
    "            data = peek()\n",
    "            print(\"확인된 데이터 ==> \", data)\n",
    "            print(\"스택 상태 : \", stack)\n",
    "        else:\n",
    "            print(\"입력이 잘못됨\")\n",
    "            \n",
    "        select = input(\"삽입(I)/추출(E)/확인(V)/종료(X) 중 하나를 선택 ==> \")\n",
    "    print(\"프로그램 종료!\")"
   ]
  },
  {
   "cell_type": "markdown",
   "id": "d84d9a7b",
   "metadata": {},
   "source": [
    "# 괄호 매칭 검사"
   ]
  },
  {
   "cell_type": "code",
   "execution_count": null,
   "id": "a5498c45",
   "metadata": {},
   "outputs": [],
   "source": []
  }
 ],
 "metadata": {
  "kernelspec": {
   "display_name": "Python 3 (ipykernel)",
   "language": "python",
   "name": "python3"
  },
  "language_info": {
   "codemirror_mode": {
    "name": "ipython",
    "version": 3
   },
   "file_extension": ".py",
   "mimetype": "text/x-python",
   "name": "python",
   "nbconvert_exporter": "python",
   "pygments_lexer": "ipython3",
   "version": "3.9.7"
  }
 },
 "nbformat": 4,
 "nbformat_minor": 5
}
