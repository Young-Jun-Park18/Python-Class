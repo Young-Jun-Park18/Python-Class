{
 "cells": [
  {
   "cell_type": "markdown",
   "id": "e2c2aae4",
   "metadata": {},
   "source": [
    "# 단순 연결 리스트의 일반 구현"
   ]
  },
  {
   "cell_type": "code",
   "execution_count": 6,
   "id": "8132d9a9",
   "metadata": {},
   "outputs": [
    {
     "name": "stdout",
     "output_type": "stream",
     "text": [
      "다현 정연 쯔위 사나 지효 \n"
     ]
    }
   ],
   "source": [
    "#클래스 선언\n",
    "class Node():\n",
    "    def __init__(self):\n",
    "        self.data = None\n",
    "        self.link = None\n",
    "        \n",
    "#노드를 출력해주는 함수\n",
    "def printNodes(start):\n",
    "    current = start\n",
    "    if current == None:\n",
    "        return \n",
    "    print(current.data, end = \" \")\n",
    "    while current.link != None:\n",
    "        current = current.link\n",
    "        print(current.data, end = \" \")\n",
    "    print()#줄바꿈문자\n",
    "    \n",
    "#전역 변수 선언\n",
    "memory  = []\n",
    "head, current, pre = None, None, None\n",
    "dataArray = [\"다현\",\"정연\",\"쯔위\",\"사나\",\"지효\"]\n",
    "\n",
    "#메인 함수 부분\n",
    "if __name__ == \"__main__\":  # int main(void)랑 똑같은건가? (yes)\n",
    "    \n",
    "    node = Node()\n",
    "    node.data = dataArray[0]\n",
    "    head = node\n",
    "    memory.append(node)\n",
    "    \n",
    "    for data in dataArray[1:]: # 두 번째 노드 이후부터 끝까지\n",
    "        pre = node\n",
    "        node = Node()\n",
    "        node.data = data\n",
    "        pre.link = node\n",
    "        memory.append(node)\n",
    "    \n",
    "    printNodes(head)"
   ]
  },
  {
   "cell_type": "code",
   "execution_count": null,
   "id": "d2bbac2a",
   "metadata": {},
   "outputs": [],
   "source": []
  }
 ],
 "metadata": {
  "kernelspec": {
   "display_name": "Python 3 (ipykernel)",
   "language": "python",
   "name": "python3"
  },
  "language_info": {
   "codemirror_mode": {
    "name": "ipython",
    "version": 3
   },
   "file_extension": ".py",
   "mimetype": "text/x-python",
   "name": "python",
   "nbconvert_exporter": "python",
   "pygments_lexer": "ipython3",
   "version": "3.9.7"
  }
 },
 "nbformat": 4,
 "nbformat_minor": 5
}
