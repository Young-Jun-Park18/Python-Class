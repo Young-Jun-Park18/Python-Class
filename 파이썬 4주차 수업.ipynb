{
 "cells": [
  {
   "cell_type": "markdown",
   "id": "f10b4092",
   "metadata": {},
   "source": [
    "# 4주차 수업입니다"
   ]
  },
  {
   "cell_type": "code",
   "execution_count": 3,
   "id": "21aaf4ea",
   "metadata": {},
   "outputs": [],
   "source": [
    "# 딕셔너리 생성할 떄에는 키 : 값 의 형식을 가진다\n",
    "# ex) dic1 = {1 : 'a', 2 : 'b'}\n",
    "# 딕셔너리에서는 key가 같으면 하나만 살아남고 뒤에 것이 살아남는다\n",
    "#['key']로 불러와도 되지만 .get()으로 부르면 없는 값이더라도 실행이 된다.\n"
   ]
  },
  {
   "cell_type": "markdown",
   "id": "188b0fc4",
   "metadata": {},
   "source": [
    "# 딕셔너리(가변형)"
   ]
  },
  {
   "cell_type": "code",
   "execution_count": 4,
   "id": "43b198e9",
   "metadata": {},
   "outputs": [
    {
     "name": "stdout",
     "output_type": "stream",
     "text": [
      "이름 --> 트와이스\n",
      "구성원 수 --> 9\n",
      "데뷔 --> 서바이벌 식스틴\n",
      "대표곡 --> signal\n"
     ]
    }
   ],
   "source": [
    "singer ={}\n",
    "singer['이름'] = '트와이스'\n",
    "singer['구성원 수'] = 9\n",
    "singer['데뷔'] ='서바이벌 식스틴'\n",
    "singer['대표곡']= 'signal'\n",
    "\n",
    "for k in singer.keys():\n",
    "    print(\"%s --> %s\" % (k, singer[k]))"
   ]
  },
  {
   "cell_type": "markdown",
   "id": "b4605bfb",
   "metadata": {},
   "source": [
    "# 세트(가변형)"
   ]
  },
  {
   "cell_type": "code",
   "execution_count": 5,
   "id": "548a08f4",
   "metadata": {},
   "outputs": [],
   "source": [
    "#세트는 중복이 불가합니다.\n",
    "#세트는 딕셔너리에서 키만 모아놨다고 생각하면 편합니다\n",
    "#순서는 크게 중요하지 않다"
   ]
  },
  {
   "cell_type": "code",
   "execution_count": 11,
   "id": "6d7ed8a0",
   "metadata": {
    "scrolled": false
   },
   "outputs": [
    {
     "name": "stdout",
     "output_type": "stream",
     "text": [
      "{4, 5}\n",
      "{1, 2, 3, 4, 5, 6, 7}\n",
      "{1, 2, 3}\n",
      "{1, 2, 3, 6, 7}\n"
     ]
    }
   ],
   "source": [
    "mySet1 = {1, 2, 3, 4, 5}\n",
    "mySet2 = {4, 5, 6, 7}\n",
    "print(mySet1 & mySet2)\n",
    "print(mySet1 | mySet2)\n",
    "print(mySet1 - mySet2)\n",
    "print(mySet1 ^ mySet2)\n",
    "#앞에 print로 다 묶어줘야한다."
   ]
  },
  {
   "cell_type": "markdown",
   "id": "554c2909",
   "metadata": {},
   "source": [
    "# 문자열(불변형)"
   ]
  },
  {
   "cell_type": "code",
   "execution_count": 12,
   "id": "5471754c",
   "metadata": {},
   "outputs": [],
   "source": [
    "# 문자열은 한 번 저장해 놓으면 변경할 수 없는 데이터 형식입니다.\n",
    "#id가 바뀐다는 게 어떤거지?"
   ]
  },
  {
   "cell_type": "code",
   "execution_count": 13,
   "id": "649849c3",
   "metadata": {},
   "outputs": [
    {
     "name": "stdout",
     "output_type": "stream",
     "text": [
      "파이썬\n",
      "자바\n"
     ]
    }
   ],
   "source": [
    "ss = \"파이썬\"\n",
    "print(ss)\n",
    "ss = \"자바\"\n",
    "print(ss)"
   ]
  },
  {
   "cell_type": "code",
   "execution_count": 17,
   "id": "c428b88c",
   "metadata": {},
   "outputs": [
    {
     "name": "stdout",
     "output_type": "stream",
     "text": [
      "4 21 21 -1\n",
      "4 21 21\n",
      "True False\n"
     ]
    }
   ],
   "source": [
    "#문자열 안에 문자를 찾을 수 있습니다.\n",
    "ss = \"파이썬 공부는 즐겁습니다. 물론 모든 공부가 다 재미있찌는 않죠. ^^\"\n",
    "ss.count(\"공부\")\n",
    "print(ss.find(\"공부\"), ss.rfind(\"공부\"), ss.find(\"공부\", 5), ss.find(\"없다\"))\n",
    "print(ss.index(\"공부\"), ss.rindex(\"공부\"), ss.index(\"공부\", 5))\n",
    "print(ss.startswith(\"파이썬\"), ss.startswith(\"파이썬\", 10))"
   ]
  },
  {
   "cell_type": "code",
   "execution_count": 18,
   "id": "a619d0ea",
   "metadata": {},
   "outputs": [],
   "source": [
    "#split()\n",
    "#join()"
   ]
  },
  {
   "cell_type": "code",
   "execution_count": 19,
   "id": "c166a42c",
   "metadata": {},
   "outputs": [
    {
     "data": {
      "text/plain": [
       "<map at 0x1ad082a0250>"
      ]
     },
     "execution_count": 19,
     "metadata": {},
     "output_type": "execute_result"
    }
   ],
   "source": [
    "#map(함수이름, 리스트이름) 함수는 리스트의 문자열 하나하나를 함수 이름에대입\n",
    "#다입 예와 같은방법으로 문자열로 구성된 리스트를 숫자로 변환할 수 있음\n",
    "before = ['2022','3','6']\n",
    "map(int, before)"
   ]
  },
  {
   "cell_type": "markdown",
   "id": "025e948a",
   "metadata": {},
   "source": [
    "# 튜플 (불변형)"
   ]
  },
  {
   "cell_type": "code",
   "execution_count": 20,
   "id": "a932d065",
   "metadata": {},
   "outputs": [],
   "source": [
    "#리스트와 사용법이 비슷하면서 약간 다름\n",
    "#리스트는 대괄호[]로 생성하ㅣ만 튜플은 소괄호()로 생성\n",
    "#튜플은 값을 수정할 수 없으며, 읽기만 가능하다"
   ]
  },
  {
   "cell_type": "markdown",
   "id": "0343bb7c",
   "metadata": {},
   "source": [
    "# 자동 로또 번호 생성기"
   ]
  },
  {
   "cell_type": "code",
   "execution_count": 22,
   "id": "5f5669ed",
   "metadata": {},
   "outputs": [
    {
     "name": "stdout",
     "output_type": "stream",
     "text": [
      " ** 로또 번호 생성을 시작합니다. **\n",
      "몇 번을 뽑을까요?5\n",
      "자동번호 --> [3, 8, 11, 16, 30, 39]\n",
      "자동번호 --> [4, 8, 27, 32, 38, 40]\n",
      "자동번호 --> [4, 13, 20, 26, 27, 32]\n",
      "자동번호 --> [6, 15, 23, 25, 28, 37]\n",
      "자동번호 --> [4, 9, 20, 35, 41, 43]\n"
     ]
    }
   ],
   "source": [
    "# import rando,\n",
    "#random,randint(a,b) = a,b중에 랜덤으로 뽑음\n",
    "#random.sample(A,b) = A중에서 B만큼 랜덤으로 뽑음\n",
    "\n",
    "#if a not in A\n",
    "#TRUE OR FALSE로\n",
    "import random\n",
    "rotto_num = list(range(1, 46))\n",
    "print(\" ** 로또 번호 생성을 시작합니다. **\")\n",
    "count = int(input(\"몇 번을 뽑을까요?\"))\n",
    "for i in range(count):\n",
    "    random_num = random.sample(rotto_num, 6)\n",
    "    random_num.sort()\n",
    "    print(\"자동번호 -->\", random_num)"
   ]
  },
  {
   "cell_type": "markdown",
   "id": "f88bfd2b",
   "metadata": {},
   "source": [
    "# 반복 문자 횟수 출력"
   ]
  },
  {
   "cell_type": "code",
   "execution_count": 39,
   "id": "0e38f464",
   "metadata": {},
   "outputs": [
    {
     "name": "stdout",
     "output_type": "stream",
     "text": [
      "가의 횟수 4\n",
      "역의 횟수 6\n",
      "겨의 횟수 7\n",
      "워의 횟수 8\n",
      "가의 횟수 4\n",
      "실의 횟수 11\n",
      "때의 횟수 13\n",
      "에의 횟수 14\n",
      "는의 횟수 15\n",
      "말의 횟수 17\n",
      "없의 횟수 18\n",
      "이의 횟수 19\n",
      "고의 횟수 21\n",
      "이의 횟수 19\n",
      "내의 횟수 25\n",
      "드의 횟수 27\n",
      "리의 횟수 28\n",
      "오의 횟수 29\n",
      "리의 횟수 28\n",
      "다의 횟수 31\n",
      ".의 횟수 32\n",
      "영의 횟수 33\n",
      "변의 횟수 34\n",
      "에의 횟수 14\n",
      "약의 횟수 37\n",
      "산의 횟수 38\n",
      "진의 횟수 40\n",
      "달의 횟수 41\n",
      "래의 횟수 42\n",
      "꽃의 횟수 43\n",
      ",의 횟수 44\n",
      "아의 횟수 46\n",
      "름의 횟수 47\n",
      "따의 횟수 49\n",
      "다의 횟수 31\n",
      "가의 횟수 4\n",
      "실의 횟수 11\n",
      "길의 횟수 55\n",
      "에의 횟수 14\n",
      "뿌의 횟수 58\n",
      "리의 횟수 28\n",
      "오의 횟수 29\n",
      "리의 횟수 28\n",
      "다의 횟수 31\n",
      ".의 횟수 32\n",
      "가의 횟수 4\n",
      "시의 횟수 66\n",
      "는의 횟수 15\n",
      "걸의 횟수 69\n",
      "을의 횟수 70\n",
      "걸의 횟수 69\n",
      "음의 횟수 72\n",
      "놓의 횟수 74\n",
      "인의 횟수 75\n",
      "그의 횟수 76\n",
      "꽃의 횟수 43\n",
      "을의 횟수 70\n",
      "사의 횟수 81\n",
      "뿐의 횟수 82\n",
      "히의 횟수 83\n",
      "즈의 횟수 85\n",
      "려의 횟수 86\n",
      "밟의 횟수 88\n",
      "고의 횟수 21\n",
      "가의 횟수 4\n",
      "시의 횟수 66\n",
      "옵의 횟수 93\n",
      "소의 횟수 94\n",
      "서의 횟수 95\n",
      ".의 횟수 32\n",
      "가의 횟수 4\n",
      "역의 횟수 6\n",
      "겨의 횟수 7\n",
      "워의 횟수 8\n",
      "가의 횟수 4\n",
      "실의 횟수 11\n",
      "때의 횟수 13\n",
      "에의 횟수 14\n",
      "는의 횟수 15\n",
      "죽의 횟수 115\n",
      "어의 횟수 116\n",
      "도의 횟수 117\n",
      "아의 횟수 46\n",
      "니의 횟수 120\n",
      "눈의 횟수 122\n",
      "물의 횟수 123\n",
      "흘의 횟수 125\n",
      "리의 횟수 28\n",
      "오의 횟수 29\n",
      "리의 횟수 28\n",
      "다의 횟수 31\n",
      ".의 횟수 32\n"
     ]
    }
   ],
   "source": [
    "ss = \"나 보기가 역겨워 가실 때에는 말없이 고이 보내 드리오리다.\\\n",
    "영변에 약산 진달래꽃, 아름 따다 가실 길에 뿌리오리다. 가시는 걸을걸음 놓인그 꽃을 사뿐히 즈려 밟고 가시옵소서. \\\n",
    "나 보기가 역겨워 가실 때에는 죽어도 아니 눈물 흘리오리다.\"\n",
    "for i in range(0, len(ss)): #len()함수를 몰랐다\n",
    "    a = ss.find(ss[i])\n",
    "    if a >= 4:\n",
    "        print(\"{0}의 횟수 {1}\".format(ss[i], a))\n",
    "        \n",
    "        \n",
    "        # 적절한 자료형을 찾는 것이 어려우니 연습을 많이하자 시험문제로 빈칸에 나올만하다!"
   ]
  },
  {
   "cell_type": "markdown",
   "id": "28080a6d",
   "metadata": {},
   "source": [
    "# 선형리스트"
   ]
  },
  {
   "cell_type": "code",
   "execution_count": 40,
   "id": "d367554f",
   "metadata": {},
   "outputs": [],
   "source": [
    "#선형 자료구조 : 데이터를 한 줄로 순차적으로 표현한 형태, 선형리슽,스택 , 큐 등등\n",
    "#비선형 자료구조 : 하나의 데이터 뒤에 여러 개가 이어지는 형태. 트리와 그래프 등\n",
    "#가공되지 않은 형태를 자료라고 하고 가공한 형태를 정보라고 한다.\n",
    "#각 원소들 상의 관계가 논리적으로 정의된 일정한 규칙에 의하여 나열되며 자료에 대한 처리를 효율적으로 수행할 수 있도록 자료를 조직적, 체계적\n",
    "#효율적으로 하기 위해서는\n",
    "#1. 자료의 처리시간, 2. 자료의 크기, 3. 자료의 활용빈도, 4. 자료의 갱신정도"
   ]
  },
  {
   "cell_type": "code",
   "execution_count": 41,
   "id": "fd8bdca4",
   "metadata": {},
   "outputs": [],
   "source": [
    "#선형리스트란?\n",
    "#맛집이나 마트에서 줄을 서는 것처럼 데이터를 일정한 순서로 나열한 것\n",
    "#순차 리스트라고도 함\n",
    "#선형 리스트는 입력 순서대로 저장하는 데이터에 적당\n",
    "#순서가 중요한 자료일 때 선형리스트를 사용한다. \"3등이 누구야? 출석번호 12번이 누구야?\" etc.."
   ]
  },
  {
   "cell_type": "code",
   "execution_count": 42,
   "id": "3b146c23",
   "metadata": {},
   "outputs": [],
   "source": [
    "#선형리스트에서 데이터의 삽입\n",
    "#4번째에 누군가를 넣고 싶으면 맨 마지막에 칸을 만들고 4번째 사람을 마지막으로 옮기고 누군가를 4번에 넣는다"
   ]
  },
  {
   "cell_type": "code",
   "execution_count": null,
   "id": "cc4ef118",
   "metadata": {},
   "outputs": [],
   "source": []
  }
 ],
 "metadata": {
  "kernelspec": {
   "display_name": "Python 3 (ipykernel)",
   "language": "python",
   "name": "python3"
  },
  "language_info": {
   "codemirror_mode": {
    "name": "ipython",
    "version": 3
   },
   "file_extension": ".py",
   "mimetype": "text/x-python",
   "name": "python",
   "nbconvert_exporter": "python",
   "pygments_lexer": "ipython3",
   "version": "3.9.7"
  }
 },
 "nbformat": 4,
 "nbformat_minor": 5
}
