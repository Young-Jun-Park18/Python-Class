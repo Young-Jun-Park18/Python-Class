{
 "cells": [
  {
   "cell_type": "code",
   "execution_count": 3,
   "id": "388a89c0",
   "metadata": {},
   "outputs": [
    {
     "name": "stdout",
     "output_type": "stream",
     "text": [
      "[]7,-4,0,5\n",
      "7,-4,0,5\n"
     ]
    }
   ],
   "source": [
    "px = input(list())\n",
    "print(px)"
   ]
  },
  {
   "cell_type": "code",
   "execution_count": null,
   "id": "4b35a16d",
   "metadata": {},
   "outputs": [],
   "source": [
    "px = input(list())\n",
    "print(px)\n",
    "polyStr = \"P(x) = \"\n",
    "polyStr += \" + \" + str(px[0]) + \"x^\" + str(3)\n",
    "polyStr += \" + \" + str(px[1]) + \"x^\" + str(2)\n",
    "polyStr += \" + \" + str(px[2]) + \"x^\" + str(1)\n",
    "polyStr += \" + \" + str(px[3]) + \"x^\" + str(0)\n",
    "print(polyStr)\n",
    "\n",
    "\n",
    "#여기서부터는 이해를 제대로 못했으니 집에가서 다시 복습"
   ]
  },
  {
   "cell_type": "markdown",
   "id": "3e2cae81",
   "metadata": {},
   "source": [
    "# 단순 연결 리스트"
   ]
  },
  {
   "cell_type": "code",
   "execution_count": null,
   "id": "af803854",
   "metadata": {},
   "outputs": [],
   "source": [
    "#노드는 데이터와 링크를 가지고 있음\n",
    "#단순 연결 리스트는 삽입과 삭제가 쉽다는 장점이 있다\n",
    "#중간에 누가 들어가고 싶으면 그 전 사람의 링크를 새로 들어가고 싶은 사람한테 향하게끔\n",
    "#중간에 누굴 삭제하고 싶으면 그 전 사람의 링크를 한 칸 건너뛰어서 향하게끔\n",
    "\n",
    "# def __init__ (self) = 초기값 설정하는 거라고 생각하면 됨\n",
    "class Node():\n",
    "    def __init__(self):\n",
    "        self.data = None\n",
    "        self.link = None\n",
    "    \n",
    "def printNodes(start):\n",
    "    current = start\n",
    "    if current == None:\n",
    "        return\n",
    "    print(current.data, end = \" \")\n",
    "    while current.link != None:\n",
    "        current = current.link\n",
    "        print(current.data, end = \" \")\n",
    "    pinrt()\n",
    "\n",
    "memory - []\n",
    "head, current, pre = None, None, None\n",
    "dataArray= [\"다현\", \"정연\", \"쯔위\", \"사나\", \"지효\"]\n",
    "\n",
    "if __name__ == \"__main__\":\n",
    "    node = Node()\n",
    "    node.data = dataArray[0]\n",
    "    head = node\n",
    "    memory.append(node)\n",
    "    \n",
    "    for data in dataArray[1:]:\n",
    "        pre = node\n",
    "        node = Node()\n",
    "        node.data = data\n",
    "        pre.link = node\n",
    "        memory.append(node)\n",
    "        \n",
    "    printNodes(head)"
   ]
  },
  {
   "cell_type": "code",
   "execution_count": null,
   "id": "135ddbff",
   "metadata": {},
   "outputs": [],
   "source": [
    "def add_data(friend):\n",
    "    katok.append(None)\n",
    "    kLen = len(katok)\n",
    "    katok[kLen-1] = friend\n",
    "    \n",
    "def delete_data(position):\n",
    "    if position < o or position > len(katok):\n",
    "        print(\"데이터를 삭제할 범위를 벗어났습니다.\")\n",
    "        return\n",
    "\n",
    "katok = []\n",
    "select = -1\n",
    "    \n",
    "if __name_ == \"__main__\":\n",
    "    while(select != 4):\n",
    "        select = int(input(\"선택하세요(1: 추가, 2: 삭제, 3: 종료)\"))\n",
    "        \n",
    "        if (select == 1):\n",
    "            data = input(\"추가할 데이터-->\")\n",
    "            add_data(data)\n",
    "            katok.sort()\n",
    "            print(katok)\n",
    "        elif (select == 2):\n",
    "            pos = int(input(\"삭제할 위치-->\"))\n",
    "            delete_data(pos)\n",
    "             katok.sort()\n",
    "            print(katok)\n",
    "        elif (select == 3):\n",
    "            print(katok)\n",
    "            exit\n",
    "        else:\n",
    "            print(\"1~3 중 하나를 입력하세요.\")\n",
    "            continue"
   ]
  },
  {
   "cell_type": "code",
   "execution_count": null,
   "id": "43f034ba",
   "metadata": {},
   "outputs": [],
   "source": [
    "class Node():\n",
    "    def __init__(self):\n",
    "        self.data = None\n",
    "        self.link = None\n",
    "\n",
    "def printNodes(start):\n",
    "    current = start\n",
    "    if current == None:\n",
    "        return\n",
    "    print(current.data, end = \" \")\n",
    "    while current.link != None:\n",
    "        current = current.link\n",
    "        print(current.data, end = \" \")\n",
    "    pinrt()\n",
    "\n",
    "def insertNode(findData, insertData):\n",
    "    global memory, head, current, pre\n",
    "    \n",
    "    if head.data == findData:\n",
    "        node = Node()\n",
    "        node.data = insertData\n",
    "        node.link = head\n",
    "        head = node\n",
    "        return\n",
    "    \n",
    "    current = head\n",
    "    while current.link != None:\n",
    "        pre = current\n",
    "        current = current.link\n",
    "        if current.data == findData:\n",
    "            node = Node()\n",
    "            node.data = insertData\n",
    "            node.link - current\n",
    "            pre.link = node\n",
    "            return\n",
    "    \n",
    "    node = Node()\n",
    "    node.data = insertData\n",
    "    current.link = node\n",
    "    "
   ]
  }
 ],
 "metadata": {
  "kernelspec": {
   "display_name": "Python 3 (ipykernel)",
   "language": "python",
   "name": "python3"
  },
  "language_info": {
   "codemirror_mode": {
    "name": "ipython",
    "version": 3
   },
   "file_extension": ".py",
   "mimetype": "text/x-python",
   "name": "python",
   "nbconvert_exporter": "python",
   "pygments_lexer": "ipython3",
   "version": "3.9.7"
  }
 },
 "nbformat": 4,
 "nbformat_minor": 5
}
